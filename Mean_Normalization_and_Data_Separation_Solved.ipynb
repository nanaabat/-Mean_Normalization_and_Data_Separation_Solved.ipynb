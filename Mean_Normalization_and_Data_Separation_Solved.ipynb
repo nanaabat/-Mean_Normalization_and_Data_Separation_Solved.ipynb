{
 "cells": [
  {
   "cell_type": "markdown",
   "metadata": {},
   "source": [
    "# Mean Normalization\n",
    "\n",
    "In machine learning we use large amounts of data to train our models. Some machine learning algorithms may require that the data is *normalized* in order to work correctly. The idea of normalization, also known as *feature scaling*, is to ensure that all the data is on a similar scale, *i.e.* that all the data takes on a similar range of values. For example, we might have a dataset that has values between 0 and 5,000. By normalizing the data we can make the range of values be between 0 and 1.\n",
    "\n",
    "In this lab, you will be performing a different kind of feature scaling known as *mean normalization*. Mean normalization will scale the data, but instead of making the values be between 0 and 1, it will distribute the values evenly in some small interval around zero. For example, if we have a dataset that has values between 0 and 5,000, after mean normalization the range of values will be distributed in some small range around 0, for example between -3 to 3. Because the range of values are distributed evenly around zero, this guarantees that the average (mean) of all elements will be zero. Therefore, when you perform *mean normalization* your data will not only be scaled but it will also have an average of zero. \n",
    "\n",
    "# To Do:\n",
    "\n",
    "You will start by importing NumPy and creating a rank 2 ndarray of random integers between 0 and 5,000 (inclusive) with 1000 rows and 20 columns. This array will simulate a dataset with a wide range of values. Fill in the code below"
   ]
  },
  {
   "cell_type": "code",
   "execution_count": 3,
   "metadata": {},
   "outputs": [
    {
     "name": "stdout",
     "output_type": "stream",
     "text": [
      "[[1732 2347  506 ... 2300 2011 3157]\n",
      " [2582 4596 1849 ... 1697 1948 2287]\n",
      " [1037 4031 4171 ... 2249 3543 4515]\n",
      " ...\n",
      " [3862  632 1506 ... 1986 4413 1385]\n",
      " [4807 4477 2796 ... 1243 4945 3603]\n",
      " [3587  145 4154 ...  152 2126 1851]]\n"
     ]
    }
   ],
   "source": [
    "# import NumPy into Python\n",
    "import numpy as np\n",
    "\n",
    "\n",
    "# Create a 1000 x 20 ndarray with random integers in the half-open interval [0, 5001).\n",
    "X = np.random.randint(0,5001, size=(1000,20))\n",
    "\n",
    "\n",
    "# print the shape of X\n",
    "print(X)\n"
   ]
  },
  {
   "cell_type": "markdown",
   "metadata": {},
   "source": [
    "Now that you created the array we will mean normalize it. We will perform mean normalization using the following equation:\n",
    "\n",
    "$\\mbox{Norm_Col}_i = \\frac{\\mbox{Col}_i - \\mu_i}{\\sigma_i}$\n",
    "\n",
    "where $\\mbox{Col}_i$ is the $i$th column of $X$, $\\mu_i$ is average of the values in the $i$th column of $X$, and $\\sigma_i$ is the standard deviation of the values in the $i$th column of $X$. In other words, mean normalization is performed by subtracting from each column of $X$ the average of its values, and then by dividing by the standard deviation of its values. In the space below, you will first calculate the average and standard deviation of each column of $X$. "
   ]
  },
  {
   "cell_type": "code",
   "execution_count": 5,
   "metadata": {},
   "outputs": [],
   "source": [
    "# Average of the values in each column of X\n",
    "ave_cols = X.mean(axis=0)\n",
    "\n",
    "# Standard Deviation of the values in each column of X\n",
    "std_cols = X.std(axis=0)"
   ]
  },
  {
   "cell_type": "markdown",
   "metadata": {},
   "source": [
    "If you have done the above calculations correctly, then `ave_cols` and `std_cols`, should both be vectors with shape `(20,)` since $X$ has 20 columns. You can verify this by filling the code below:"
   ]
  },
  {
   "cell_type": "code",
   "execution_count": 17,
   "metadata": {},
   "outputs": [
    {
     "name": "stdout",
     "output_type": "stream",
     "text": [
      "(20,)\n",
      "(20,)\n"
     ]
    }
   ],
   "source": [
    "# Print the shape of ave_cols\n",
    "print(ave_cols.shape)\n",
    "\n",
    "\n",
    "# Print the shape of std_cols\n",
    "print(std_cols.shape)"
   ]
  },
  {
   "cell_type": "markdown",
   "metadata": {},
   "source": [
    "You can now take advantage of Broadcasting to calculate the mean normalized version of $X$ in just one line of code using the equation above. Fill in the code below"
   ]
  },
  {
   "cell_type": "code",
   "execution_count": 11,
   "metadata": {},
   "outputs": [],
   "source": [
    "# Mean normalize X\n",
    "X_norm = np.divide(np.subtract(X, ave_cols), std_cols)\n"
   ]
  },
  {
   "cell_type": "markdown",
   "metadata": {},
   "source": [
    "If you have performed the mean normalization correctly, then the average of all the elements in $X_{\\tiny{\\mbox{norm}}}$ should be close to zero, and they should be evenly distributed in some small interval around zero. You can verify this by filing the code below:"
   ]
  },
  {
   "cell_type": "code",
   "execution_count": 16,
   "metadata": {},
   "outputs": [
    {
     "name": "stdout",
     "output_type": "stream",
     "text": [
      "[[-0.52948825 -0.13242848 -1.36602096 ... -0.1616183  -0.32549204\n",
      "   0.42340398]\n",
      " [ 0.04950531  1.43054101 -0.41626428 ... -0.57691422 -0.36901921\n",
      "  -0.17670821]\n",
      " [-1.00290063  1.03788749  1.22583178 ... -0.19674283  0.73297821\n",
      "   1.36013082]\n",
      " ...\n",
      " [ 0.9214015  -1.32428827 -0.65883058 ... -0.37787521  1.3340677\n",
      "  -0.79889349]\n",
      " [ 1.56510611  1.34784053  0.25344501 ... -0.88959141  1.70163048\n",
      "   0.7310477 ]\n",
      " [ 0.73408005 -1.66273475  1.21380954 ... -1.64098088 -0.24603768\n",
      "  -0.47745409]]\n",
      "(1000, 20)\n",
      "Minimum value in each column [1.69589053 1.69879633 1.80784946 1.7536504  1.73499922 1.73328726\n",
      " 1.71120978 1.67972703 1.74952637 1.71960132 1.73122556 1.74259026\n",
      " 1.72805336 1.71607065 1.75110718 1.74772804 1.71154031 1.68758493\n",
      " 1.73341222 1.68915785]\n",
      "Maximum value in each column [-1.69905525 -1.76280928 -1.72385929 -1.76247203 -1.75377837 -1.68656594\n",
      " -1.75682841 -1.76087191 -1.79955318 -1.76091996 -1.71078299 -1.70609348\n",
      " -1.73439401 -1.72935888 -1.69219113 -1.72986201 -1.71234755 -1.74497704\n",
      " -1.70730697 -1.75217515]\n"
     ]
    }
   ],
   "source": [
    "# Print the average of all the values of X_norm\n",
    "print(X_norm)\n",
    "\n",
    "\n",
    "\n",
    "# Print the average of the minimum value in each column of X_norm\n",
    "print(\"Minimum value in each column\", X_norm.max(axis=0))\n",
    " \n",
    "\n",
    "# Print the average of the maximum value in each column of X_norm\n",
    "print(\"Maximum value in each column\", X_norm.min(axis=0))\n"
   ]
  },
  {
   "cell_type": "markdown",
   "metadata": {},
   "source": [
    "You should note that since $X$ was created using random integers, the above values will vary. \n",
    "\n",
    "# Data Separation\n",
    "\n",
    "After the data has been mean normalized, it is customary in machine learnig to split our dataset into three sets:\n",
    "\n",
    "1. A Training Set\n",
    "2. A Cross Validation Set\n",
    "3. A Test Set\n",
    "\n",
    "The dataset is usually divided such that the Training Set contains 60% of the data, the Cross Validation Set contains 20% of the data, and the Test Set contains 20% of the data. \n",
    "\n",
    "In this part of the lab you will separate `X_norm` into a Training Set, Cross Validation Set, and a Test Set. Each data set will contain rows of `X_norm` chosen at random, making sure that we don't pick the same row twice. This will guarantee that all the rows of `X_norm` are chosen and randomly distributed among the three new sets.\n",
    "\n",
    "You will start by creating a rank 1 ndarray that contains a random permutation of the row indices of `X_norm`. You can do this by using the `np.random.permutation()` function. The `np.random.permutation(N)` function creates a random permutation of integers from 0 to `N - 1`. Let's see an example:"
   ]
  },
  {
   "cell_type": "code",
   "execution_count": 18,
   "metadata": {},
   "outputs": [
    {
     "data": {
      "text/plain": [
       "array([0, 2, 4, 1, 3])"
      ]
     },
     "execution_count": 18,
     "metadata": {},
     "output_type": "execute_result"
    }
   ],
   "source": [
    "# We create a random permutation of integers 0 to 4\n",
    "np.random.permutation(5)"
   ]
  },
  {
   "cell_type": "markdown",
   "metadata": {},
   "source": [
    "# To Do\n",
    "\n",
    "In the space below create a rank 1 ndarray that contains a random permutation of the row indices of `X_norm`. You can do this in one line of code by extracting the number of rows of `X_norm` using the `shape` attribute and then passing it to the  `np.random.permutation()` function. Remember the `shape` attribute returns a tuple with two numbers in the form `(rows,columns)`."
   ]
  },
  {
   "cell_type": "code",
   "execution_count": 28,
   "metadata": {},
   "outputs": [
    {
     "name": "stdout",
     "output_type": "stream",
     "text": [
      "[338 602 731 786 146 310 255 990 166   0 347  58 388 281 658 819 185 512\n",
      " 193 320 453 636 668 923 948 880 825 531 716 515 107 571 983 204 544 738\n",
      " 714  22 870 161 536 774 610 858 520 480 393 101 701 939 996 465 913 953\n",
      " 270 835 287 585 803 732 791 875 873  17 333  29 587  99 485 829 394 429\n",
      " 237 349 653 872  92 280 370  71 328 598 229 378 927 425 307 436 645 589\n",
      " 976 886 212 226 390 475 561 832 198 574 734 267 615 600 809 787 908 140\n",
      " 503 514 954 317 762 225  70 864 243 253 420 519 993 384 712 631 549 689\n",
      " 887 322 230 897 316 554 105 368 141 110 363 881 398 279 160 481 609  86\n",
      " 419 818 831 427 906 197 853 510 541 293 582 227 181 448 663 641 822 454\n",
      " 241 125 426 497 214 375 681 866 729 670  47 486 311 926 557 811 792 203\n",
      " 540 813 522 527 152 330 860 452 235 396 795 257 807 570 995 781 867 498\n",
      " 228 259 234 899 493 389 513 507 116 551  65 376 655 456 650 940 713 438\n",
      " 646 968 174 651 151 242 537 941 386   4 772 966 240 724 885 260  14 761\n",
      " 113 935 231 812 710 608 893 854 937 399 296 836 506 528 194 130 685 914\n",
      " 973 119 471  18 466 938 741 254 959 108 891  83 219 437  35 562 400  85\n",
      " 464 264 147   2 126 300 273 351 725 495 924 442 334 104 530 447 916 692\n",
      " 746 403 903 187 247  27 607 538 688 704 821 629 518  53 313 584 634 572\n",
      " 675 355  93 121 412 656 529 251  55 156  33 136 997 780 622 680 750  25\n",
      " 298 422 810 974 516  41 482 383 449 699 569 771 117 715 523 594 413 581\n",
      " 834 122 580 892 262 962 793 827 215 131 657 770 950 895 282 863 223 144\n",
      " 137 139  74 960  51 461 673 309 871 857 776 162 221 999 972 596 740 409\n",
      " 256 357 824 683 735  49 785 499 777 764 172 679 627 343 654 833 153 759\n",
      " 618 286 297 366 921 638 435 210 797 644 971 748 842  60 106 133 727  28\n",
      " 800 757 782 945 669 332  16 981 145 753 752  42  96 592 373 900 742 947\n",
      "  39 341 922 444 220 550 542 202 325 604 698 659  24 766 851   8 577 943\n",
      " 912 601 408 118 982  91 801 283 509 346 632 898 736 977 611 488 195 649\n",
      " 599  43 196 755 826  54 364 459 749 743 165 249 682 473 142 275 576 595\n",
      " 365 555 783 728  98 327 878 154 984 723 391 430 290  56 178 553 143 500\n",
      " 337 621 457 353 563 455 112 167 666 830  10 266 888 277 206 321 211 617\n",
      " 382 236 278 676 148 284 248 664 911 405 421 955 558 123 556 879 289 565\n",
      " 269 315 998 949 989 965 173 132 802 261 855 222 568 721 986 329 840 458\n",
      " 380 128 201 418 992 217  88 271  76  82 233 502 586 111 849 265 768 451\n",
      " 686 934 671  61 767 660 603 865 323 149 244 150 216 525 207 404 662 994\n",
      " 843  48 773 446 991 578  73 844 441 684 200 784  19 232 445 115 387 176\n",
      " 443 100   3 469 102 929 769 859 263 918 470 718  66 889 942 910 163 874\n",
      " 612 559 539 209  75 358 496 869 956 979 808 428 606 326 292 189 183 652\n",
      " 299 274 168  77 401 815  40 306 463 432 647 177  81 434  37  69 798 790\n",
      " 467 579 687  44 630 352  84 620 677 590 877 410  32 978 535 103   5 890\n",
      " 633 439 964 985 342 417  94 932 339  79 301 883 917  95 179  78 114  26\n",
      " 191 737 336 548 758 479 805 490 678 440 706 489 304 707 534 861  15 477\n",
      " 591 385 817 359 952 697 324  50 882 431   6 841  87 381 170 963 250 969\n",
      " 751 564 360 847 246 524 820 980 640 619 184 856 846  12 719  89 478 925\n",
      " 694 744 951  90 933 138 402 573 970 566 423 760 294 305 371 626  20 920\n",
      " 642 588 392  38 213 344 884 868 700 314 483 747  57 839 468 643  97 239\n",
      "  23 505 487 308 348 778 848 845 127 667 593  45 157 708 362 796 613 711\n",
      " 134 804 988 930 672 472 238  36 424 919   7 367 806 188 547 876 702 354\n",
      " 852 823 850 501 180 331 379 169 397 763 799  67 532 526 765 258 164 474\n",
      " 896 395 635 545 902 944 186 987 722 205 936 511 625 533   9  52 491 624\n",
      " 894 794 199 816 695 377  63 303 661  21 605 492 312 931 494 637 958 560\n",
      " 291 521  62 411 372 703 129 690 295 665 901 648 828 720 705 285 155 862\n",
      " 504 245 674 789  11 957 907 208 730 109  64  72 567 356 460 433 814 252\n",
      " 406 484 756 450 915 218 614 726 340 693 546 543 361 414 350 462 135 192\n",
      " 928 733 302  80 967 905 779 623 639 345 552 739 575 583  46 517 415 904\n",
      " 416 745  30 369 975 175 775 407 709 838 616 171 124 696 508  68 224 597\n",
      " 318  13 319 272   1 909 268 190 691  31 476 837 717  34 961 182 946 158\n",
      " 628 374 159 120 335 288 754 276 788  59]\n"
     ]
    }
   ],
   "source": [
    "# Create a rank 1 ndarray that contains a random permutation of the row indices of `X_norm`\n",
    "row,col = X_norm.shape\n",
    "row_indices = np.random.permutation(row)\n",
    "print(row_indices)"
   ]
  },
  {
   "cell_type": "markdown",
   "metadata": {},
   "source": [
    "Now you can create the three datasets using the `row_indices` ndarray to select the rows that will go into each dataset. Rememeber that the Training Set contains 60% of the data, the Cross Validation Set contains 20% of the data, and the Test Set contains 20% of the data. Each set requires just one line of code to create. Fill in the code below"
   ]
  },
  {
   "cell_type": "code",
   "execution_count": 30,
   "metadata": {},
   "outputs": [],
   "source": [
    "# Make any necessary calculations.\n",
    "# You can save your calculations into variables to use later.\n",
    "\n",
    "\n",
    "\n",
    "# Create a Training Set\n",
    "X_train = X_norm[row_indices[0:600]]\n",
    "\n",
    "# Create a Cross Validation Set\n",
    "X_crossVal = X_norm[row_indices[600:800]]\n",
    "\n",
    "# Create a Test Set\n",
    "X_test = X_norm[row_indices[800:1000]]"
   ]
  },
  {
   "cell_type": "markdown",
   "metadata": {},
   "source": [
    "If you performed the above calculations correctly, then `X_tain` should have 600 rows and 20 columns, `X_crossVal` should have 200 rows and 20 columns, and `X_test` should have 200 rows and 20 columns. You can verify this by filling the code below:"
   ]
  },
  {
   "cell_type": "code",
   "execution_count": 31,
   "metadata": {},
   "outputs": [
    {
     "name": "stdout",
     "output_type": "stream",
     "text": [
      "X_train：  (600, 20)\n",
      "X_crossVal：  (200, 20)\n",
      "X_test:  (200, 20)\n"
     ]
    }
   ],
   "source": [
    "# Print the shape of X_train\n",
    "print(\"X_train： \",X_train.shape)\n",
    "\n",
    "\n",
    "# Print the shape of X_crossVal\n",
    "print(\"X_crossVal： \",X_crossVal.shape)\n",
    "\n",
    "\n",
    "# Print the shape of X_test\n",
    "print(\"X_test: \",X_test.shape)\n"
   ]
  },
  {
   "cell_type": "code",
   "execution_count": null,
   "metadata": {},
   "outputs": [],
   "source": []
  }
 ],
 "metadata": {
  "kernelspec": {
   "display_name": "Python 3",
   "language": "python",
   "name": "python3"
  },
  "language_info": {
   "codemirror_mode": {
    "name": "ipython",
    "version": 3
   },
   "file_extension": ".py",
   "mimetype": "text/x-python",
   "name": "python",
   "nbconvert_exporter": "python",
   "pygments_lexer": "ipython3",
   "version": "3.7.2"
  }
 },
 "nbformat": 4,
 "nbformat_minor": 2
}
